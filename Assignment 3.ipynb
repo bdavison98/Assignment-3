{
 "cells": [
  {
   "cell_type": "code",
   "execution_count": null,
   "metadata": {},
   "outputs": [],
   "source": [
    "from pyspark import SparkConf, SparkContext\n",
    "\n",
    "conf = SparkConf().setAppName(\"Assignment3\").setMaster(\"local\")\n",
    "sc = SparkContext.getOrCreate()\n",
    "\n",
    "import os\n",
    "import sqlite3\n"
   ]
  },
  {
   "cell_type": "markdown",
   "metadata": {},
   "source": [
    "# Question 1\n",
    "Write a SQL query that lists all the players born between 1987 and 1990inclusive, sort them from the oldest to the youngest.  \n",
    "\n",
    "The output of this query should be of the form:\n",
    "Player Name | Birthday\n"
   ]
  },
  {
   "cell_type": "code",
   "execution_count": null,
   "metadata": {},
   "outputs": [],
   "source": [
    "con = sqlite3.connect('database.sqlite')\n",
    "cursorObj = con.cursor()\n",
    "\n",
    "\n",
    "cursorObj.execute(\"SELECT player_name,birthday FROM Player WHERE birthday BETWEEN 1987 AND 1990 ORDER by birthday;\")\n",
    "\n",
    "rows = cursorObj.fetchall()\n",
    "\n",
    "print '{0:^25}{s:1}{1:^18}'.format(\"Player Name\",\"Birthday\", s=\"|\"),\"\\n\",'{:-^45}'.format(\"-\")\n",
    "\n",
    "\n",
    "for row in rows:\n",
    "    print u'{x:25}{s:5}{y:20}'.format(x=row[0],y=row[1][0:10],s=\"|\")"
   ]
  },
  {
   "cell_type": "markdown",
   "metadata": {},
   "source": [
    "# Question 2 \n",
    "\n",
    "Write a SQL query that ranks all countries and leagues based on the total amount of total goals scored per game in the whole dataset. \n",
    "Sort them by the largest to the smallest amount of goals. \n",
    "Note: Read this carefully. \n",
    "\n",
    "The output of this query should be of the form:\n",
    "Country | League Name | Total Goals Scored\n"
   ]
  },
  {
   "cell_type": "code",
   "execution_count": null,
   "metadata": {},
   "outputs": [],
   "source": [
    "con = sqlite3.connect('database.sqlite')\n",
    "cursorObj = con.cursor()\n",
    "\n",
    "\n",
    "\n",
    "cursorObj.execute(\"\"\"\n",
    "SELECT DISTINCT c.name AS Country, l.name AS League, sum(m.home_team_goal+m.away_team_goal) AS Total_Goals_Scored\n",
    "FROM \"Match\" m\n",
    "INNER JOIN Country c\n",
    "    ON m.country_id = c.id\n",
    "INNER JOIN League l\n",
    "    ON m.league_id = l.id\n",
    "GROUP BY c.name \n",
    "ORDER BY Total_Goals_Scored ASC;\"\"\")\n",
    "rows = cursorObj.fetchall() \n",
    "print '{0:^15}{s:2}{1:^33}{s:5}{2}'.format(\"Country\",\"League Name\",\"Total Goals Scored\", s=\"|\"),\"\\n\",'{:-^80}'.format(\"-\")\n",
    "\n",
    "for row in rows:\n",
    "    print u'{x:<15}{s:5}{y:<30}{s:5}{z:^18}'.format(x=row[0],y=row[1],z=row[2],s=\"|\")"
   ]
  },
  {
   "cell_type": "markdown",
   "metadata": {},
   "source": [
    "# Question 3 \n",
    "\n",
    "Write a SQL query that ranks all teams by the average of all their attributes (not the players' attributes), sort them from best to worst. \n",
    "\n",
    "The output of this query should be of the form:\n",
    "Team Long Name | Average of Attributes"
   ]
  },
  {
   "cell_type": "code",
   "execution_count": null,
   "metadata": {},
   "outputs": [],
   "source": [
    "con = sqlite3.connect('database.sqlite')\n",
    "cursorObj = con.cursor()\n",
    "\n",
    "cursorObj.execute(\"SELECT DISTINCT t.team_long_name, avg(ta.buildupplayspeed+ta.buildUpPlayDribbling+ta.buildupplaypassing+ta.chancecreationpassing+ta.chancecreationcrossing+ta.chancecreationshooting+ta.defencepressure+ta.defenceaggression+ta.defenceteamwidth) AS Attribute_Average FROM Team_Attributes ta INNER JOIN Team t ON ta.team_fifa_api_id = t.team_fifa_api_id GROUP BY t.team_long_name ORDER BY Attribute_Average DESC LIMIT 20;\")\n",
    "\n",
    "rows = cursorObj.fetchall()\n",
    "\n",
    "print '{0:^25}{1:5}{2:^12}'.format(\"Team Long Name\",\"|\",\"Average Attributes\"),\"\\n\",'{:-^53}'.format(\"-\")\n",
    "for row in rows:\n",
    "    \n",
    "    print u'{x:<25}{s:5}{y:^15}'.format(x=row[0],y=row[1],s=\"|\")"
   ]
  },
  {
   "cell_type": "markdown",
   "metadata": {},
   "source": [
    "# Question 4\n",
    "\n",
    "Write a SQL query that ranks all teams by the average of their players'attributes, sort them by descending order displaying only the top 5. \n",
    "\n",
    "The output of this query should beof the form:\n",
    "Team Name| Number of Players | Player Attribute Average"
   ]
  },
  {
   "cell_type": "code",
   "execution_count": null,
   "metadata": {},
   "outputs": [],
   "source": [
    "con = sqlite3.connect('database.sqlite')\n",
    "cursorObj = con.cursor()\n",
    "\n",
    "cursorObj.execute(\"\")\n",
    "\n",
    "rows = cursorObj.fetchall() \n",
    "\n",
    "for row in rows:\n",
    "    print row"
   ]
  },
  {
   "cell_type": "markdown",
   "metadata": {},
   "source": [
    "# Question 5\n",
    "\n",
    "Write a SINGLE SQL query that finds the date that had the most goals scored on,per each different season and league. \n",
    "\n",
    "The output of this query should be of the form: \n",
    "Date (dd/mm/yy) | Season | League Name | Goals scored"
   ]
  },
  {
   "cell_type": "code",
   "execution_count": null,
   "metadata": {},
   "outputs": [],
   "source": [
    "con = sqlite3.connect('database.sqlite')\n",
    "cursorObj = con.cursor()\n",
    "\n",
    "cursorObj.execute(\"\"\"\n",
    "SELECT DISTINCT m.\"date\" AS \"Date\", m.season, l.name, max(m.home_team_goal+m.away_team_goal) AS \"Goals Scored\"\n",
    "FROM League l\n",
    "JOIN \"Match\" m\n",
    "ON m.league_id = l.id\n",
    "GROUP BY l.name\n",
    "ORDER BY \"Goals Scored\" DESC;\n",
    "\"\"\")\n",
    "\n",
    "rows = cursorObj.fetchall() \n",
    "\n",
    "print '{0:^15}{1:2}{2:^16}{3:1}{4:^31}{5:4}{6:^10}'.format(\"Date\",\"|\",\"Season\",\"|\",\"League Name\",\"|\",\"Goals Scored\"),\"\\n\",'{:-^85}'.format(\"-\")\n",
    "for row in rows:\n",
    "    print '{x:<15}{s:5}{y:<13}{s:5}{z:<27}{s:5}{a:^10}'.format(x=row[0][0:10],y=row[1],z=row[2],a=row[3],s=\"|\")"
   ]
  },
  {
   "cell_type": "markdown",
   "metadata": {},
   "source": [
    "# Graduate Student Task\n",
    "\n",
    "Write a SINGLE SQL query that finds the top 5 teams in terms ofgoals scored PER league for the 2008/2009 season. \n",
    "The output of this query should be of the form:\n",
    "Season | League | Rank | Team Name | Goals Scored"
   ]
  },
  {
   "cell_type": "code",
   "execution_count": null,
   "metadata": {},
   "outputs": [],
   "source": [
    "con = sqlite3.connect('database.sqlite')\n",
    "cursorObj = con.cursor()\n",
    "\n",
    "cursorObj.execute(\"\"\"\n",
    "SELECT m.season, l.name, t.team_long_name, max(m.home_team_goal+m.away_team_goal) AS \"Goals Scored\"\n",
    "FROM \"Match\" m\n",
    "JOIN League l\n",
    "    ON m.league_id = l.id\n",
    "JOIN Team t\n",
    "    ON m.home_team_api_id = t.team_api_id\n",
    "WHERE m.season = '2008/2009'\n",
    "GROUP BY l.name\n",
    "ORDER BY \"Goals Scored\" DESC\n",
    "LIMIT 5;\"\"\")\n",
    "\n",
    "rows = cursorObj.fetchall()\n",
    "\n",
    "print '{0:^15}{s:3}{1:^27}{s:10}{2:15}{s:5}{3:20}'.format(\"Season\",\"League\",\"Team Name\",\"Goals Scored\", s=\"|\"),\"\\n\",'{:-^90}'.format(\"-\")\n",
    "\n",
    "for row in rows:\n",
    "    print u'{x:<15}{s:5}{y:<25}{s:5}{z:<20}{s:5}{a:^11}'.format(x=row[0],y=row[1],z=row[2],a=row[3],s=\"|\")"
   ]
  },
  {
   "cell_type": "code",
   "execution_count": null,
   "metadata": {},
   "outputs": [],
   "source": []
  }
 ],
 "metadata": {
  "kernelspec": {
   "display_name": "Python 3",
   "language": "python",
   "name": "python3"
  },
  "language_info": {
   "codemirror_mode": {
    "name": "ipython",
    "version": 2
   },
   "file_extension": ".py",
   "mimetype": "text/x-python",
   "name": "python",
   "nbconvert_exporter": "python",
   "pygments_lexer": "ipython2",
   "version": "2.7.5"
  }
 },
 "nbformat": 4,
 "nbformat_minor": 2
}
